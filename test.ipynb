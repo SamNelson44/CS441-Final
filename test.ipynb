{
 "cells": [
  {
   "cell_type": "code",
   "execution_count": 1,
   "metadata": {},
   "outputs": [
    {
     "name": "stdout",
     "output_type": "stream",
     "text": [
      "_ _ _ _ _ _ _ \n",
      "_ _ _ _ _ _ _ \n",
      "_ _ _ _ _ _ _ \n",
      "_ _ _ _ _ _ _ \n",
      "_ _ _ _ _ _ _ \n",
      "_ _ _ _ _ _ _ \n",
      "\n"
     ]
    }
   ],
   "source": [
    "from minimax import MiniMax\n",
    "import numpy as np\n",
    "\n",
    "agent = MiniMax(max_depth=1, debug=False)\n",
    "\"\"\"By default, X is 0, O is 1\"\"\"\n",
    "# agent.state.board = [\n",
    "#             [None, None, None, None, None, None, None],\n",
    "#             [None, None, None, None, None, None, None],\n",
    "#             [None, None, None, None, None, None, None],\n",
    "#             [None, None, None, None, None, None, None],\n",
    "#             ['O',  'O',  'O',   'X',  'X',  'X', None],\n",
    "#             ['O',  'X',  'O',   'X',  'O',  'X', None]\n",
    "#         ]\n",
    "# agent.state.chips_size = [2,2,2,2,2,2,0]\n",
    "# agent.state.board = [[None]*7 for _ in range(6)]\n",
    "# agent.state.chips_size = [0]*7\n",
    "print(str(agent.state))"
   ]
  },
  {
   "cell_type": "code",
   "execution_count": 2,
   "metadata": {},
   "outputs": [],
   "source": [
    "agent4 = MiniMax(max_depth=3, debug=False)"
   ]
  },
  {
   "cell_type": "code",
   "execution_count": 3,
   "metadata": {},
   "outputs": [],
   "source": [
    "# loop vessel\n",
    "# res = []\n",
    "# for i in range(100):\n",
    "#     print(f\"{i}/100\", end='\\r')\n",
    "#     status = None\n",
    "#     while not status:\n",
    "#         if agent.state.current_player == 'X':\n",
    "#             row, col = agent.mini_max_move(is_X=True)\n",
    "#             # row, col = agent.random_move()\n",
    "#         elif agent.state.current_player == 'O':\n",
    "#             # if np.random.choice(range(2),1)[0] == 0:\n",
    "                \n",
    "#                 # row, col = agent.mini_max_move(is_X=False)\n",
    "#             # else:\n",
    "#                 row, col = agent.random_move()\n",
    "\n",
    "#         status = agent.check_status(row, col)\n",
    "#         agent.state.place(row, col)\n",
    "\n",
    "#     res += [(status, sum(agent.state.chips_size))]\n",
    "#     agent.state.reset_board()\n",
    "# print(res)"
   ]
  },
  {
   "cell_type": "code",
   "execution_count": 4,
   "metadata": {},
   "outputs": [],
   "source": [
    "# sum([x[1] for x in res])/100"
   ]
  },
  {
   "cell_type": "code",
   "execution_count": 10,
   "metadata": {},
   "outputs": [
    {
     "name": "stdout",
     "output_type": "stream",
     "text": [
      "[('X wins', 'X wins', 19), ('X wins', 'X wins', 32), ('O wins', 'O wins', 41), ('X wins', 'X wins', 27), ('X wins', 'X wins', 28), ('X wins', 'X wins', 20), ('X wins', 'X wins', 26), ('X wins', 'X wins', 22), ('X wins', 'X wins', 34), ('Draw!', 'Draw!', 42), ('X wins', 'X wins', 22), ('X wins', 'X wins', 40), ('X wins', 'X wins', 22), ('O wins', 'O wins', 39), ('X wins', 'X wins', 35), ('X wins', 'X wins', 16), ('X wins', 'X wins', 24), ('X wins', 'X wins', 34), ('O wins', 'O wins', 33), ('X wins', 'X wins', 15), ('O wins', 'O wins', 39), ('X wins', 'X wins', 27), ('X wins', 'X wins', 30), ('X wins', 'X wins', 28), ('O wins', 'O wins', 35), ('X wins', 'X wins', 27), ('X wins', 'X wins', 28), ('X wins', 'X wins', 22), ('X wins', 'X wins', 18), ('X wins', 'X wins', 36), ('X wins', 'X wins', 26), ('O wins', 'O wins', 35), ('X wins', 'X wins', 35), ('Draw!', 'Draw!', 42), ('X wins', 'X wins', 38), ('O wins', 'O wins', 31), ('O wins', 'O wins', 34), ('X wins', 'X wins', 27), ('X wins', 'X wins', 18), ('X wins', 'X wins', 14), ('X wins', 'X wins', 34), ('X wins', 'X wins', 40), ('O wins', 'O wins', 39), ('O wins', 'O wins', 36), ('X wins', 'X wins', 19), ('O wins', 'O wins', 35), ('X wins', 'X wins', 15), ('X wins', 'X wins', 28), ('Draw!', 'Draw!', 42), ('X wins', 'X wins', 34), ('Draw!', 'Draw!', 42), ('O wins', 'O wins', 29), ('X wins', 'X wins', 39), ('X wins', 'X wins', 24), ('O wins', 'O wins', 39), ('X wins', 'X wins', 25), ('X wins', 'X wins', 28), ('Draw!', 'Draw!', 42), ('O wins', 'O wins', 39), ('X wins', 'X wins', 25), ('X wins', 'X wins', 34), ('X wins', 'X wins', 32), ('X wins', 'X wins', 32), ('X wins', 'X wins', 26), ('X wins', 'X wins', 26), ('O wins', 'O wins', 31), ('Draw!', 'Draw!', 42), ('X wins', 'X wins', 21), ('X wins', 'X wins', 24), ('X wins', 'X wins', 24), ('X wins', 'X wins', 40), ('Draw!', 'Draw!', 42), ('O wins', 'O wins', 39), ('O wins', 'O wins', 38), ('X wins', 'X wins', 35), ('Draw!', 'Draw!', 42), ('X wins', 'X wins', 24), ('X wins', 'X wins', 28), ('X wins', 'X wins', 24), ('X wins', 'X wins', 28), ('X wins', 'X wins', 18), ('X wins', 'X wins', 28), ('X wins', 'X wins', 36), ('X wins', 'X wins', 24), ('X wins', 'X wins', 34), ('X wins', 'X wins', 34), ('O wins', 'O wins', 33), ('X wins', 'X wins', 41), ('X wins', 'X wins', 26), ('O wins', 'O wins', 25), ('X wins', 'X wins', 39), ('O wins', 'O wins', 39), ('X wins', 'X wins', 31), ('Draw!', 'Draw!', 42), ('X wins', 'X wins', 18), ('O wins', 'O wins', 39), ('X wins', 'X wins', 19), ('X wins', 'X wins', 26), ('X wins', 'X wins', 34), ('X wins', 'X wins', 24)]\n"
     ]
    }
   ],
   "source": [
    "# loop vessel double agent\n",
    "res = []\n",
    "for i in range(100):\n",
    "    print(f\"{i}/100\", end='\\r')\n",
    "    status = None\n",
    "    while not status:\n",
    "        if agent.state.current_player == 'X':\n",
    "            row, col = agent4.mini_max_move(is_X=True)\n",
    "            # row, col = agent.random_move()\n",
    "        elif agent.state.current_player == 'O':\n",
    "            # if np.random.choice(range(2),1)[0] == 0:\n",
    "                \n",
    "                # row, col = agent.mini_max_move(is_X=False)\n",
    "            # else:\n",
    "                \n",
    "                # row, col = agent.random_move()\n",
    "            row, col = agent.mini_max_move(is_X = False)\n",
    "        status = agent.check_status(row, col)\n",
    "        sstatus = agent4.check_status(row,col)\n",
    "        agent.state.place(row, col)\n",
    "        agent4.state.place(row, col)\n",
    "\n",
    "    res += [(status, sstatus, sum(agent.state.chips_size))]\n",
    "    agent.state.reset_board()\n",
    "    agent4.state.reset_board()\n",
    "print(res)"
   ]
  },
  {
   "cell_type": "code",
   "execution_count": 11,
   "metadata": {},
   "outputs": [
    {
     "data": {
      "text/plain": [
       "(30.57, 0.21, 0.09)"
      ]
     },
     "execution_count": 11,
     "metadata": {},
     "output_type": "execute_result"
    }
   ],
   "source": [
    "sum([x[2] for x in res])/100, sum([1 if x[0] == 'O wins' else 0 for x in res])/100, sum([1 if x[0] == 'Draw!' else 0 for x in res])/100"
   ]
  },
  {
   "cell_type": "code",
   "execution_count": 9,
   "metadata": {},
   "outputs": [
    {
     "data": {
      "text/plain": [
       "(32.32, 0.29, 0.09)"
      ]
     },
     "execution_count": 9,
     "metadata": {},
     "output_type": "execute_result"
    }
   ],
   "source": [
    "# sum([x[2] for x in res])/100, sum([1 if x[0] == 'O wins' else 0 for x in res])/100, sum([1 if x[0] == 'Draw!' else 0 for x in res])/100"
   ]
  },
  {
   "cell_type": "code",
   "execution_count": 6,
   "metadata": {},
   "outputs": [],
   "source": [
    "# status = None\n",
    "# while not status:\n",
    "#     if agent.state.current_player == 'X':\n",
    "#         row, col = agent.mini_max_move(is_X=True)\n",
    "#     elif agent.state.current_player == 'O':\n",
    "#         if np.random.choice(range(2),1)[0] == 0:\n",
    "#             row, col = agent.mini_max_move(is_X=False)\n",
    "#         else:\n",
    "#             row, col = agent.random_move()\n",
    "\n",
    "#     status = agent.check_status(row, col)\n",
    "\n",
    "#     agent.state.place(row, col)\n",
    "#     print(str(agent.state))\n",
    "\n",
    "# print(status)"
   ]
  }
 ],
 "metadata": {
  "kernelspec": {
   "display_name": "base",
   "language": "python",
   "name": "python3"
  },
  "language_info": {
   "codemirror_mode": {
    "name": "ipython",
    "version": 3
   },
   "file_extension": ".py",
   "mimetype": "text/x-python",
   "name": "python",
   "nbconvert_exporter": "python",
   "pygments_lexer": "ipython3",
   "version": "3.9.18"
  }
 },
 "nbformat": 4,
 "nbformat_minor": 2
}
