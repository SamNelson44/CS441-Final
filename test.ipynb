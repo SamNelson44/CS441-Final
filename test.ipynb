{
 "cells": [
  {
   "cell_type": "code",
   "execution_count": 4,
   "metadata": {},
   "outputs": [
    {
     "name": "stdout",
     "output_type": "stream",
     "text": [
      "_ _ _ _ _ _ _ \n",
      "_ _ _ _ _ _ _ \n",
      "_ _ _ _ _ _ _ \n",
      "_ _ _ _ _ _ _ \n",
      "_ _ _ _ _ _ _ \n",
      "_ _ _ _ _ _ _ \n",
      "\n"
     ]
    }
   ],
   "source": [
    "from minimax import MiniMax\n",
    "\n",
    "agent = MiniMax(max_depth=4, debug=True)\n",
    "\"\"\"By default, X is 0, O is 1\"\"\"\n",
    "# algo.state.board = [\n",
    "#             [None, None, None, None, None, None, None],\n",
    "#             [None, None, None, None, None, None, None],\n",
    "#             [None, None, None, None, None, None, None],\n",
    "#             [None, None, None, None, None, None, None],\n",
    "#             ['O',  'O',  'O',   'X',  'X',  'X', None],\n",
    "#             ['O',  'X',  'O',   'X',  'O',  'X', None]\n",
    "#         ]\n",
    "# algo.state.chips_size = [2,2,2,2,2,2,0]\n",
    "agent.state.board = [[None]*7 for _ in range(6)]\n",
    "agent.state.chips_size = [0]*7\n",
    "print(str(agent.state))"
   ]
  },
  {
   "cell_type": "code",
   "execution_count": 5,
   "metadata": {},
   "outputs": [],
   "source": [
    "#loop vessel\n",
    "# res = []\n",
    "# for i in range(100):\n",
    "#     print(f\"{i}/100\", end='\\r')\n",
    "    \n",
    "\n",
    "#         res += [agent.state.terminal()]\n",
    "#     agent.state.board = [[None]*7 for _ in range(6)]\n",
    "#     agent.state.chips_size = [0]*7"
   ]
  },
  {
   "cell_type": "code",
   "execution_count": 6,
   "metadata": {},
   "outputs": [
    {
     "name": "stdout",
     "output_type": "stream",
     "text": [
      "Best score: 0.03320 for (5, 4)\n",
      "_ _ _ _ _ _ _ \n",
      "_ _ _ _ _ _ _ \n",
      "_ _ _ _ _ _ _ \n",
      "_ _ _ _ _ _ _ \n",
      "_ _ _ _ _ _ _ \n",
      "_ _ _ _ X _ _ \n",
      "\n",
      "_ _ _ _ _ _ _ \n",
      "_ _ _ _ _ _ _ \n",
      "_ _ _ _ _ _ _ \n",
      "_ _ _ _ _ _ _ \n",
      "_ _ _ _ O _ _ \n",
      "_ _ _ _ X _ _ \n",
      "\n",
      "Best score: 0.17544 for (5, 3)\n",
      "_ _ _ _ _ _ _ \n",
      "_ _ _ _ _ _ _ \n",
      "_ _ _ _ _ _ _ \n",
      "_ _ _ _ _ _ _ \n",
      "_ _ _ _ O _ _ \n",
      "_ _ _ X X _ _ \n",
      "\n",
      "_ _ _ _ _ _ _ \n",
      "_ _ _ _ _ _ _ \n",
      "_ _ _ _ _ _ _ \n",
      "_ _ _ _ _ _ _ \n",
      "_ _ _ _ O _ _ \n",
      "_ _ O X X _ _ \n",
      "\n",
      "Best score: 0.40651 for (5, 5)\n",
      "_ _ _ _ _ _ _ \n",
      "_ _ _ _ _ _ _ \n",
      "_ _ _ _ _ _ _ \n",
      "_ _ _ _ _ _ _ \n",
      "_ _ _ _ O _ _ \n",
      "_ _ O X X X _ \n",
      "\n",
      "_ _ _ _ _ _ _ \n",
      "_ _ _ _ _ _ _ \n",
      "_ _ _ _ _ _ _ \n",
      "_ _ _ _ _ _ _ \n",
      "_ _ _ _ O _ _ \n",
      "_ O O X X X _ \n",
      "\n",
      "Best score: 2.71701 for (5, 6)\n",
      "_ _ _ _ _ _ _ \n",
      "_ _ _ _ _ _ _ \n",
      "_ _ _ _ _ _ _ \n",
      "_ _ _ _ _ _ _ \n",
      "_ _ _ _ O _ _ \n",
      "_ O O X X X X \n",
      "\n",
      "_ _ _ _ _ _ _ \n",
      "_ _ _ _ _ _ _ \n",
      "_ _ _ _ _ _ _ \n",
      "_ _ _ _ _ _ _ \n",
      "_ _ _ O O _ _ \n",
      "_ O O X X X X \n",
      "\n",
      "Best score: 2.71701 for (5, 0)\n",
      "_ _ _ _ _ _ _ \n",
      "_ _ _ _ _ _ _ \n",
      "_ _ _ _ _ _ _ \n",
      "_ _ _ _ _ _ _ \n",
      "_ _ _ O O _ _ \n",
      "X O O X X X X \n",
      "\n"
     ]
    },
    {
     "data": {
      "text/plain": [
       "'X'"
      ]
     },
     "execution_count": 6,
     "metadata": {},
     "output_type": "execute_result"
    }
   ],
   "source": [
    "while not agent.state.terminal() and len(agent.state.next_possible_moves()) != 0:\n",
    "    if agent.state.current_player == 'X':\n",
    "        row, col = agent.mini_max_move()\n",
    "    elif agent.state.current_player == 'O':\n",
    "        row, col = agent.random_move()\n",
    "    agent.state.place(col)\n",
    "    print(str(agent.state))\n",
    "agent.state.terminal()"
   ]
  }
 ],
 "metadata": {
  "kernelspec": {
   "display_name": "base",
   "language": "python",
   "name": "python3"
  },
  "language_info": {
   "codemirror_mode": {
    "name": "ipython",
    "version": 3
   },
   "file_extension": ".py",
   "mimetype": "text/x-python",
   "name": "python",
   "nbconvert_exporter": "python",
   "pygments_lexer": "ipython3",
   "version": "3.9.18"
  }
 },
 "nbformat": 4,
 "nbformat_minor": 2
}
